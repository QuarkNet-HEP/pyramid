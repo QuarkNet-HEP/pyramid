{
 "cells": [
  {
   "cell_type": "code",
   "execution_count": null,
   "id": "4f87db78",
   "metadata": {
    "scrolled": true
   },
   "outputs": [
    {
     "data": {
      "text/html": [
       "<div id=\"glowscript\" class=\"glowscript\"></div>"
      ],
      "text/plain": [
       "<IPython.core.display.HTML object>"
      ]
     },
     "metadata": {},
     "output_type": "display_data"
    },
    {
     "data": {
      "application/javascript": [
       "if (typeof Jupyter !== \"undefined\") { window.__context = { glowscript_container: $(\"#glowscript\").removeAttr(\"id\")};}else{ element.textContent = ' ';}"
      ],
      "text/plain": [
       "<IPython.core.display.Javascript object>"
      ]
     },
     "metadata": {},
     "output_type": "display_data"
    },
    {
     "data": {
      "text/html": [
       "<div id=\"glowscript\" class=\"glowscript\"></div>"
      ],
      "text/plain": [
       "<IPython.core.display.HTML object>"
      ]
     },
     "metadata": {},
     "output_type": "display_data"
    },
    {
     "data": {
      "application/javascript": [
       "if (typeof Jupyter !== \"undefined\") { window.__context = { glowscript_container: $(\"#glowscript\").removeAttr(\"id\")};}else{ element.textContent = ' ';}"
      ],
      "text/plain": [
       "<IPython.core.display.Javascript object>"
      ]
     },
     "metadata": {},
     "output_type": "display_data"
    },
    {
     "data": {
      "application/javascript": [
       "if (typeof Jupyter !== \"undefined\") {require.undef(\"nbextensions/vpython_libraries/glow.min\");}else{element.textContent = ' ';}"
      ],
      "text/plain": [
       "<IPython.core.display.Javascript object>"
      ]
     },
     "metadata": {},
     "output_type": "display_data"
    },
    {
     "data": {
      "application/javascript": [
       "if (typeof Jupyter !== \"undefined\") {require.undef(\"nbextensions/vpython_libraries/glowcomm\");}else{element.textContent = ' ';}"
      ],
      "text/plain": [
       "<IPython.core.display.Javascript object>"
      ]
     },
     "metadata": {},
     "output_type": "display_data"
    },
    {
     "data": {
      "application/javascript": [
       "if (typeof Jupyter !== \"undefined\") {require.undef(\"nbextensions/vpython_libraries/jquery-ui.custom.min\");}else{element.textContent = ' ';}"
      ],
      "text/plain": [
       "<IPython.core.display.Javascript object>"
      ]
     },
     "metadata": {},
     "output_type": "display_data"
    },
    {
     "data": {
      "application/javascript": [
       "if (typeof Jupyter !== \"undefined\") {require([\"nbextensions/vpython_libraries/glow.min\"], function(){console.log(\"GLOW LOADED\");});}else{element.textContent = ' ';}"
      ],
      "text/plain": [
       "<IPython.core.display.Javascript object>"
      ]
     },
     "metadata": {},
     "output_type": "display_data"
    },
    {
     "data": {
      "application/javascript": [
       "if (typeof Jupyter !== \"undefined\") {require([\"nbextensions/vpython_libraries/glowcomm\"], function(){console.log(\"GLOWCOMM LOADED\");});}else{element.textContent = ' ';}"
      ],
      "text/plain": [
       "<IPython.core.display.Javascript object>"
      ]
     },
     "metadata": {},
     "output_type": "display_data"
    },
    {
     "data": {
      "application/javascript": [
       "if (typeof Jupyter !== \"undefined\") {require([\"nbextensions/vpython_libraries/jquery-ui.custom.min\"], function(){console.log(\"JQUERY LOADED\");});}else{element.textContent = ' ';}"
      ],
      "text/plain": [
       "<IPython.core.display.Javascript object>"
      ]
     },
     "metadata": {},
     "output_type": "display_data"
    }
   ],
   "source": [
    "from vpython import *\n",
    "\n",
    "#this is the temporary fix\n",
    "c = canvas(width=1000,height=800)\n",
    "\n",
    "class triShaft():\n",
    "    def __init__(self):\n",
    "        self.type = 'x'\n",
    "        self.length = 16\n",
    "        self.size = 1\n",
    "        self.xpos = 0\n",
    "        self.ypos = 0\n",
    "        self.zpos = 0\n",
    "        self.orientation = 'up'\n",
    "        self.opacity = 0.05\n",
    "        self.color = vec(255,255,255)\n",
    "        self.outline = vec(255,255,255)\n",
    "    #this is just a scene\n",
    "    def render(self):\n",
    "\n",
    "        shortleg=self.size/2\n",
    "        longleg=shortleg*1.73205081\n",
    "        if self.type == 'x':\n",
    "            if self.orientation == 'up':\n",
    "                vertexes = [\n",
    "                    vec(self.xpos,self.ypos,self.zpos),\n",
    "                    vec(self.xpos+self.size,self.ypos,self.zpos),\n",
    "                    vec(self.xpos+shortleg,self.ypos+longleg,self.zpos),\n",
    "                    vec(self.xpos,self.ypos,self.zpos-self.length),\n",
    "                    vec(self.xpos+self.size,self.ypos,self.zpos-self.length),\n",
    "                    vec(self.xpos+shortleg,self.ypos+longleg,self.zpos-self.length)\n",
    "                ]\n",
    "            elif self.orientation == 'down':\n",
    "                vertexes = [\n",
    "                    vec(self.xpos,self.ypos+longleg,self.zpos),\n",
    "                    vec(self.xpos+self.size,self.ypos+longleg,self.zpos),\n",
    "                    vec(self.xpos+shortleg,self.ypos,self.zpos),\n",
    "                    vec(self.xpos,self.ypos+longleg,self.zpos-self.length),\n",
    "                    vec(self.xpos+self.size,self.ypos+longleg,self.zpos-self.length),\n",
    "                    vec(self.xpos+shortleg,self.ypos,self.zpos-self.length)\n",
    "                ]\n",
    "        elif self.type == 'y':\n",
    "            if self.orientation == 'up':\n",
    "                vertexes = [\n",
    "                    vec(self.xpos,self.ypos,self.zpos),\n",
    "                    vec(self.xpos,self.ypos,self.zpos-self.size),\n",
    "                    vec(self.xpos,self.ypos+longleg,self.zpos-shortleg),\n",
    "                    vec(self.xpos+self.length,self.ypos,self.zpos),\n",
    "                    vec(self.xpos+self.length,self.ypos,self.zpos-self.size),\n",
    "                    vec(self.xpos+self.length,self.ypos+longleg,self.zpos-shortleg),\n",
    "                ]\n",
    "            elif self.orientation == 'down':\n",
    "                vertexes = [\n",
    "                    vec(self.xpos,self.ypos+longleg,self.zpos),\n",
    "                    vec(self.xpos,self.ypos+longleg,self.zpos-self.size),\n",
    "                    vec(self.xpos,self.ypos,self.zpos-shortleg),\n",
    "                    vec(self.xpos+self.length,self.ypos+longleg,self.zpos),\n",
    "                    vec(self.xpos+self.length,self.ypos+longleg,self.zpos-self.size),\n",
    "                    vec(self.xpos+self.length,self.ypos,self.zpos-shortleg),\n",
    "                ]\n",
    "\n",
    "        a0 = vertex( pos=vertexes[0] , color=self.color)   \n",
    "        b0 = vertex( pos=vertexes[1] , color=self.color)\n",
    "        c0 = vertex( pos=vertexes[2] , color=self.color)\n",
    "\n",
    "        a1 = vertex( pos=vertexes[3] , color=self.color)   \n",
    "        b1 = vertex( pos=vertexes[4] , color=self.color)\n",
    "        c1 = vertex( pos=vertexes[5] , color=self.color)\n",
    "        \n",
    "        a0.opacity = self.opacity\n",
    "        b0.opacity = self.opacity\n",
    "        c0.opacity = self.opacity\n",
    "\n",
    "        a1.opacity = self.opacity\n",
    "        b1.opacity = self.opacity\n",
    "        c1.opacity = self.opacity\n",
    "        \n",
    "        \n",
    "        triangle(v0=a0,v1=b0,v2=c0)\n",
    "        curve(pos=[vertexes[0],vertexes[1],vertexes[2],vertexes[0]],color=self.outline)\n",
    "        triangle(v0=a1,v1=b1,v2=c1)\n",
    "        curve(pos=[vertexes[3],vertexes[4],vertexes[5],vertexes[3]],color=self.outline)\n",
    "        quad( vs=[a0,b0,b1,a1])\n",
    "        curve(pos=[vertexes[0],vertexes[3]], color=self.outline)\n",
    "        quad( vs=[a0,c0,c1,a1])\n",
    "        curve(pos=[vertexes[1],vertexes[4]],color=self.outline)\n",
    "        quad( vs=[c0,b0,b1,c1])\n",
    "        curve(pos=[vertexes[2],vertexes[5]],color=self.outline)\n",
    "    \n",
    "class Sensor():\n",
    "    def __init__(self):\n",
    "        self.centerx=0\n",
    "        self.centery=0\n",
    "        self.centerz=0\n",
    "        self.planeSpacing=6\n",
    "        self.gridx=7\n",
    "        self.gridy=12\n",
    "        self.xcolor = vec(255,0,0) #red\n",
    "        self.ycolor = vec(0,0,255) #blue\n",
    "        self.xtransparency = 0.05\n",
    "        self.ytransparency = 0.05\n",
    "\n",
    "        #lists of triangle shaft objects according to orientation and type\n",
    "        #ux = upward triangles for the x-configuration\n",
    "        #dx = downward triangles for the x-configuration\n",
    "        #uy = upward triangles for the y-configuration\n",
    "        #dy = downward triangles for the y-configuration\n",
    "        self.ux = []\n",
    "        self.dx = []\n",
    "        self.uy = []\n",
    "        self.dy = []\n",
    "    \n",
    "    def render(self):\n",
    "        for k in range(3):\n",
    "            #upward triangles in the x direction\n",
    "            for i in range(self.gridx):\n",
    "                new = triShaft()\n",
    "                new.length = self.gridy\n",
    "                new.xpos = self.centerx-self.gridx/2 + i\n",
    "                new.ypos = (1-k)*self.planeSpacing + self.centery\n",
    "                new.zpos = self.centerz+self.gridy/2\n",
    "                new.color = self.xcolor\n",
    "                new.opacity = self.xtransparency\n",
    "                new.render()\n",
    "                self.ux.append(new)\n",
    "            #downward triangles in the x direction\n",
    "            for i in range(self.gridx):\n",
    "                new = triShaft()\n",
    "                new.length = self.gridy\n",
    "                new.orientation = \"down\"\n",
    "                new.xpos = self.centerx-self.gridx/2 + i + new.size/2\n",
    "                new.ypos = (1-k)*self.planeSpacing + self.centery\n",
    "                new.zpos = self.centerz+self.gridy/2\n",
    "                new.color = self.xcolor\n",
    "                new.opacity = self.xtransparency\n",
    "                new.render()\n",
    "                self.dx.append(new)\n",
    "\n",
    "            #upward triangles in the y direction\n",
    "            for i in range(self.gridy):\n",
    "                new = triShaft()\n",
    "                new.type = 'y'\n",
    "                new.length = self.gridx + new.size/2\n",
    "                new.xpos = self.centerz-self.gridx/2\n",
    "                new.ypos = (1-k)*self.planeSpacing + self.centery + new.size\n",
    "                new.zpos = self.centery-self.gridy/2 + i + new.size\n",
    "                new.color = self.ycolor\n",
    "                new.opacity = self.ytransparency\n",
    "                new.render()\n",
    "                self.uy.append(new)\n",
    "            #downward triangles in the x direction\n",
    "            for i in range(self.gridy):\n",
    "                new = triShaft()\n",
    "                new.type = 'y'\n",
    "                new.orientation = 'down'\n",
    "                new.length = self.gridx + new.size/2\n",
    "                new.xpos = self.centerz-self.gridx/2\n",
    "                new.ypos = (1-k)*self.planeSpacing + self.centery + new.size\n",
    "                new.zpos = self.centery-self.gridy/2 + i + new.size/2\n",
    "                new.color = self.ycolor\n",
    "                new.opacity = self.ytransparency\n",
    "                new.render()\n",
    "                self.dy.append(new)\n",
    "\n",
    "c.lights = []\n",
    "\n",
    "s = Sensor()\n",
    "s.xtransparency=1\n",
    "s.ytransparency=1\n",
    "s.render()\n",
    "\n",
    "\n",
    "while True:\n",
    "    rate(100)"
   ]
  },
  {
   "cell_type": "code",
   "execution_count": null,
   "id": "22db2fa0",
   "metadata": {},
   "outputs": [],
   "source": []
  }
 ],
 "metadata": {
  "kernelspec": {
   "display_name": "Python 3 (ipykernel)",
   "language": "python",
   "name": "python3"
  },
  "language_info": {
   "codemirror_mode": {
    "name": "ipython",
    "version": 3
   },
   "file_extension": ".py",
   "mimetype": "text/x-python",
   "name": "python",
   "nbconvert_exporter": "python",
   "pygments_lexer": "ipython3",
   "version": "3.10.9"
  }
 },
 "nbformat": 4,
 "nbformat_minor": 5
}
