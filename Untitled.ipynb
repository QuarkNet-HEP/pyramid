{
 "cells": [
  {
   "cell_type": "code",
   "execution_count": 1,
   "id": "985d6ad5",
   "metadata": {},
   "outputs": [],
   "source": [
    "import turtle\n",
    "size = 50\n",
    "t = turtle.Turtle()\n",
    "t.speed(0)\n",
    "\n",
    "t.penup()\n",
    "t.setposition(0, 60)\n",
    "t.pendown()\n",
    "style = ('Arial', 15, 'italic')\n",
    "t.write('X-view display - find muon track with 3 planes', font=style, align='center')\n",
    "\n",
    "\n",
    "\n",
    "def triangle(up, x, y, inten):\n",
    "  t.penup()\n",
    "  t.setposition(x,y)\n",
    "  t.setheading(0)\n",
    "  if(up):\n",
    "    t.pendown()\n",
    "    t.forward(size)\n",
    "    t.left(120)\n",
    "    t.forward(size)\n",
    "    t.left(120)\n",
    "    t.forward(size)\n",
    "  else:\n",
    "    t.pendown()\n",
    "    t.left(60)\n",
    "    t.forward(size)\n",
    "    t.left(120)\n",
    "    t.forward(size)\n",
    "    t.left(120)\n",
    "    t.forward(size)\n",
    " \n",
    "\n",
    "for y in range(0,-300,-100):\n",
    "\n",
    "\tfor x in range(-100,100,size):\n",
    "\t\ttriangle(False, x, y, 20)\n",
    "\t\ttriangle(True, x, y,20)\n",
    "\n",
    "\n"
   ]
  },
  {
   "cell_type": "code",
   "execution_count": null,
   "id": "be290db7",
   "metadata": {},
   "outputs": [],
   "source": []
  }
 ],
 "metadata": {
  "kernelspec": {
   "display_name": "Python 3 (ipykernel)",
   "language": "python",
   "name": "python3"
  },
  "language_info": {
   "codemirror_mode": {
    "name": "ipython",
    "version": 3
   },
   "file_extension": ".py",
   "mimetype": "text/x-python",
   "name": "python",
   "nbconvert_exporter": "python",
   "pygments_lexer": "ipython3",
   "version": "3.10.9"
  }
 },
 "nbformat": 4,
 "nbformat_minor": 5
}
