{
 "cells": [
  {
   "cell_type": "code",
   "execution_count": null,
   "id": "7156446a",
   "metadata": {},
   "outputs": [
    {
     "data": {
      "text/html": [
       "<div id=\"glowscript\" class=\"glowscript\"></div>"
      ],
      "text/plain": [
       "<IPython.core.display.HTML object>"
      ]
     },
     "metadata": {},
     "output_type": "display_data"
    },
    {
     "data": {
      "application/javascript": "if (typeof Jupyter !== \"undefined\") { window.__context = { glowscript_container: $(\"#glowscript\").removeAttr(\"id\")};}else{ element.textContent = ' ';}",
      "text/plain": [
       "<IPython.core.display.Javascript object>"
      ]
     },
     "metadata": {},
     "output_type": "display_data"
    },
    {
     "data": {
      "text/html": [
       "<div id=\"glowscript\" class=\"glowscript\"></div>"
      ],
      "text/plain": [
       "<IPython.core.display.HTML object>"
      ]
     },
     "metadata": {},
     "output_type": "display_data"
    },
    {
     "data": {
      "application/javascript": "if (typeof Jupyter !== \"undefined\") { window.__context = { glowscript_container: $(\"#glowscript\").removeAttr(\"id\")};}else{ element.textContent = ' ';}",
      "text/plain": [
       "<IPython.core.display.Javascript object>"
      ]
     },
     "metadata": {},
     "output_type": "display_data"
    },
    {
     "data": {
      "application/javascript": "if (typeof Jupyter !== \"undefined\") {require.undef(\"nbextensions/vpython_libraries/glow.min\");}else{element.textContent = ' ';}",
      "text/plain": [
       "<IPython.core.display.Javascript object>"
      ]
     },
     "metadata": {},
     "output_type": "display_data"
    },
    {
     "data": {
      "application/javascript": "if (typeof Jupyter !== \"undefined\") {require.undef(\"nbextensions/vpython_libraries/glowcomm\");}else{element.textContent = ' ';}",
      "text/plain": [
       "<IPython.core.display.Javascript object>"
      ]
     },
     "metadata": {},
     "output_type": "display_data"
    },
    {
     "data": {
      "application/javascript": "if (typeof Jupyter !== \"undefined\") {require.undef(\"nbextensions/vpython_libraries/jquery-ui.custom.min\");}else{element.textContent = ' ';}",
      "text/plain": [
       "<IPython.core.display.Javascript object>"
      ]
     },
     "metadata": {},
     "output_type": "display_data"
    },
    {
     "data": {
      "application/javascript": "if (typeof Jupyter !== \"undefined\") {require([\"nbextensions/vpython_libraries/glow.min\"], function(){console.log(\"GLOW LOADED\");});}else{element.textContent = ' ';}",
      "text/plain": [
       "<IPython.core.display.Javascript object>"
      ]
     },
     "metadata": {},
     "output_type": "display_data"
    },
    {
     "data": {
      "application/javascript": "if (typeof Jupyter !== \"undefined\") {require([\"nbextensions/vpython_libraries/glowcomm\"], function(){console.log(\"GLOWCOMM LOADED\");});}else{element.textContent = ' ';}",
      "text/plain": [
       "<IPython.core.display.Javascript object>"
      ]
     },
     "metadata": {},
     "output_type": "display_data"
    },
    {
     "data": {
      "application/javascript": "if (typeof Jupyter !== \"undefined\") {require([\"nbextensions/vpython_libraries/jquery-ui.custom.min\"], function(){console.log(\"JQUERY LOADED\");});}else{element.textContent = ' ';}",
      "text/plain": [
       "<IPython.core.display.Javascript object>"
      ]
     },
     "metadata": {},
     "output_type": "display_data"
    }
   ],
   "source": [
    "from vpython import *\n",
    "\n",
    "#this is the temporary fix\n",
    "c = canvas()\n",
    "\n",
    "#this is just a scene\n",
    "def triShaft(length, size, xpos, ypos, zpos, orientation, opacity):\n",
    "    if orientation == 'up':\n",
    "        vertexes = [\n",
    "            vec(xpos,ypos,zpos),\n",
    "            vec(xpos+size,ypos,zpos),\n",
    "            vec(xpos+size/2,ypos+(size/2)*1.73205081,zpos),\n",
    "            vec(xpos,ypos,zpos-length),\n",
    "            vec(xpos+size,ypos,zpos-length),\n",
    "            vec(xpos+size/2,ypos+(size/2)*1.73205081,zpos-length)\n",
    "        ]\n",
    "    elif orientation == 'down':\n",
    "        vertexes = [\n",
    "            vec(xpos,ypos+(size/2)*1.73205081,zpos),\n",
    "            vec(xpos+size,ypos+(size/2)*1.73205081,zpos),\n",
    "            vec(xpos+size/2,ypos,zpos),\n",
    "            vec(xpos,ypos+(size/2)*1.73205081,zpos-length),\n",
    "            vec(xpos+size,ypos+(size/2)*1.73205081,zpos-length),\n",
    "            vec(xpos+size/2,ypos,zpos-length)\n",
    "        ]\n",
    "    a0 = vertex( pos=vertexes[0] )   \n",
    "    b0 = vertex( pos=vertexes[1] )\n",
    "    c0 = vertex( pos=vertexes[2] )\n",
    "\n",
    "    a1 = vertex( pos=vertexes[3] )   \n",
    "    b1 = vertex( pos=vertexes[4] )\n",
    "    c1 = vertex( pos=vertexes[5] )\n",
    "    \n",
    "    a0.opacity = opacity\n",
    "    b0.opacity = opacity\n",
    "    c0.opacity = opacity\n",
    "\n",
    "    a1.opacity = opacity\n",
    "    b1.opacity = opacity\n",
    "    c1.opacity = opacity\n",
    "\n",
    "    triangle(v0=a0,v1=b0,v2=c0)\n",
    "    curve(pos=[vertexes[0],vertexes[1],vertexes[2],vertexes[0]])\n",
    "    triangle(v0=a1,v1=b1,v2=c1)\n",
    "    curve(pos=[vertexes[3],vertexes[4],vertexes[5],vertexes[3]])\n",
    "    quad( vs=[a0,b0,b1,a1] )\n",
    "    curve(pos=[vertexes[0],vertexes[3]])\n",
    "    quad( vs=[a0,c0,c1,a1] )\n",
    "    curve(pos=[vertexes[1],vertexes[4]])\n",
    "    quad( vs=[c0,b0,b1,c1] )\n",
    "    curve(pos=[vertexes[2],vertexes[5]])\n",
    "\n",
    "for k in range(3):\n",
    "\n",
    "    for i in range(16):\n",
    "        triShaft(10,1,i,k*-6,0,'up',0.1)\n",
    "    for i in range(15):\n",
    "        triShaft(10,1,0.5+i,k*-6,0,'down',0.1)\n",
    "\n",
    "while True:\n",
    "    rate(100)"
   ]
  },
  {
   "cell_type": "code",
   "execution_count": null,
   "id": "85169608",
   "metadata": {},
   "outputs": [],
   "source": []
  }
 ],
 "metadata": {
  "kernelspec": {
   "display_name": "Python 3 (ipykernel)",
   "language": "python",
   "name": "python3"
  },
  "language_info": {
   "codemirror_mode": {
    "name": "ipython",
    "version": 3
   },
   "file_extension": ".py",
   "mimetype": "text/x-python",
   "name": "python",
   "nbconvert_exporter": "python",
   "pygments_lexer": "ipython3",
   "version": "3.10.9"
  }
 },
 "nbformat": 4,
 "nbformat_minor": 5
}
