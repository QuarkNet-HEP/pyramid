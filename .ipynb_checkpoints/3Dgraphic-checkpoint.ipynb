{
 "cells": [
  {
   "cell_type": "code",
   "execution_count": null,
   "id": "4f87db78",
   "metadata": {
    "scrolled": true
   },
   "outputs": [
    {
     "data": {
      "text/html": [
       "<div id=\"glowscript\" class=\"glowscript\"></div>"
      ],
      "text/plain": [
       "<IPython.core.display.HTML object>"
      ]
     },
     "metadata": {},
     "output_type": "display_data"
    },
    {
     "data": {
      "application/javascript": [
       "if (typeof Jupyter !== \"undefined\") { window.__context = { glowscript_container: $(\"#glowscript\").removeAttr(\"id\")};}else{ element.textContent = ' ';}"
      ],
      "text/plain": [
       "<IPython.core.display.Javascript object>"
      ]
     },
     "metadata": {},
     "output_type": "display_data"
    },
    {
     "name": "stdout",
     "output_type": "stream",
     "text": [
      "swap:\n",
      "0.0\n"
     ]
    },
    {
     "data": {
      "text/html": [
       "<div id=\"glowscript\" class=\"glowscript\"></div>"
      ],
      "text/plain": [
       "<IPython.core.display.HTML object>"
      ]
     },
     "metadata": {},
     "output_type": "display_data"
    },
    {
     "data": {
      "application/javascript": [
       "if (typeof Jupyter !== \"undefined\") { window.__context = { glowscript_container: $(\"#glowscript\").removeAttr(\"id\")};}else{ element.textContent = ' ';}"
      ],
      "text/plain": [
       "<IPython.core.display.Javascript object>"
      ]
     },
     "metadata": {},
     "output_type": "display_data"
    },
    {
     "data": {
      "application/javascript": [
       "if (typeof Jupyter !== \"undefined\") {require.undef(\"nbextensions/vpython_libraries/glow.min\");}else{element.textContent = ' ';}"
      ],
      "text/plain": [
       "<IPython.core.display.Javascript object>"
      ]
     },
     "metadata": {},
     "output_type": "display_data"
    },
    {
     "data": {
      "application/javascript": [
       "if (typeof Jupyter !== \"undefined\") {require.undef(\"nbextensions/vpython_libraries/glowcomm\");}else{element.textContent = ' ';}"
      ],
      "text/plain": [
       "<IPython.core.display.Javascript object>"
      ]
     },
     "metadata": {},
     "output_type": "display_data"
    },
    {
     "data": {
      "application/javascript": [
       "if (typeof Jupyter !== \"undefined\") {require.undef(\"nbextensions/vpython_libraries/jquery-ui.custom.min\");}else{element.textContent = ' ';}"
      ],
      "text/plain": [
       "<IPython.core.display.Javascript object>"
      ]
     },
     "metadata": {},
     "output_type": "display_data"
    },
    {
     "data": {
      "application/javascript": [
       "if (typeof Jupyter !== \"undefined\") {require([\"nbextensions/vpython_libraries/glow.min\"], function(){console.log(\"GLOW LOADED\");});}else{element.textContent = ' ';}"
      ],
      "text/plain": [
       "<IPython.core.display.Javascript object>"
      ]
     },
     "metadata": {},
     "output_type": "display_data"
    },
    {
     "data": {
      "application/javascript": [
       "if (typeof Jupyter !== \"undefined\") {require([\"nbextensions/vpython_libraries/glowcomm\"], function(){console.log(\"GLOWCOMM LOADED\");});}else{element.textContent = ' ';}"
      ],
      "text/plain": [
       "<IPython.core.display.Javascript object>"
      ]
     },
     "metadata": {},
     "output_type": "display_data"
    },
    {
     "data": {
      "application/javascript": [
       "if (typeof Jupyter !== \"undefined\") {require([\"nbextensions/vpython_libraries/jquery-ui.custom.min\"], function(){console.log(\"JQUERY LOADED\");});}else{element.textContent = ' ';}"
      ],
      "text/plain": [
       "<IPython.core.display.Javascript object>"
      ]
     },
     "metadata": {},
     "output_type": "display_data"
    }
   ],
   "source": [
    "from vpython import *\n",
    "from multiprocessing import *\n",
    "from DataReading import *\n",
    "\n",
    "\n",
    "#this is the temporary fix\n",
    "c = canvas(width=1000,height=800)\n",
    "\n",
    "class triShaft():\n",
    "    def __init__(self):\n",
    "        self.type = 'x'\n",
    "        self.length = 16\n",
    "        self.size = 1\n",
    "        self.xpos = 0\n",
    "        self.ypos = 0\n",
    "        self.zpos = 0\n",
    "        self.orientation = 'up'\n",
    "        self.opacity = 0.05\n",
    "        self.color = vector(1,1,1)\n",
    "        self.outline = vector(1,1,1)\n",
    "        self.lineradius = 0.01\n",
    "        self.wireframe = []\n",
    "        self.prism = None\n",
    "\n",
    "    #this is just a scene\n",
    "    def render(self):\n",
    "\n",
    "        shortleg=self.size/2\n",
    "        longleg=self.size/2\n",
    "        if self.type == 'x':\n",
    "            if self.orientation == 'up':\n",
    "                vertexes = [\n",
    "                    vec(self.xpos,self.ypos,self.zpos),\n",
    "                    vec(self.xpos+self.size,self.ypos,self.zpos),\n",
    "                    vec(self.xpos+shortleg,self.ypos+longleg,self.zpos),\n",
    "                    vec(self.xpos,self.ypos,self.zpos-self.length),\n",
    "                    vec(self.xpos+self.size,self.ypos,self.zpos-self.length),\n",
    "                    vec(self.xpos+shortleg,self.ypos+longleg,self.zpos-self.length)\n",
    "                ]\n",
    "            elif self.orientation == 'down':\n",
    "                vertexes = [\n",
    "                    vec(self.xpos,self.ypos+longleg,self.zpos),\n",
    "                    vec(self.xpos+self.size,self.ypos+longleg,self.zpos),\n",
    "                    vec(self.xpos+shortleg,self.ypos,self.zpos),\n",
    "                    vec(self.xpos,self.ypos+longleg,self.zpos-self.length),\n",
    "                    vec(self.xpos+self.size,self.ypos+longleg,self.zpos-self.length),\n",
    "                    vec(self.xpos+shortleg,self.ypos,self.zpos-self.length)\n",
    "                ]\n",
    "        elif self.type == 'y':\n",
    "            if self.orientation == 'up':\n",
    "                vertexes = [\n",
    "                    vec(self.xpos,self.ypos,self.zpos),\n",
    "                    vec(self.xpos,self.ypos,self.zpos-self.size),\n",
    "                    vec(self.xpos,self.ypos+longleg,self.zpos-shortleg),\n",
    "                    vec(self.xpos+self.length,self.ypos,self.zpos),\n",
    "                    vec(self.xpos+self.length,self.ypos,self.zpos-self.size),\n",
    "                    vec(self.xpos+self.length,self.ypos+longleg,self.zpos-shortleg),\n",
    "                ]\n",
    "            elif self.orientation == 'down':\n",
    "                vertexes = [\n",
    "                    vec(self.xpos,self.ypos+longleg,self.zpos),\n",
    "                    vec(self.xpos,self.ypos+longleg,self.zpos-self.size),\n",
    "                    vec(self.xpos,self.ypos,self.zpos-shortleg),\n",
    "                    vec(self.xpos+self.length,self.ypos+longleg,self.zpos),\n",
    "                    vec(self.xpos+self.length,self.ypos+longleg,self.zpos-self.size),\n",
    "                    vec(self.xpos+self.length,self.ypos,self.zpos-shortleg),\n",
    "                ]\n",
    "\n",
    "        a0 = vertex( pos=vertexes[0] , color=self.color)   \n",
    "        b0 = vertex( pos=vertexes[1] , color=self.color)\n",
    "        c0 = vertex( pos=vertexes[2] , color=self.color)\n",
    "\n",
    "        a1 = vertex( pos=vertexes[3] , color=self.color)   \n",
    "        b1 = vertex( pos=vertexes[4] , color=self.color)\n",
    "        c1 = vertex( pos=vertexes[5] , color=self.color)\n",
    "        \n",
    "        a0.opacity = self.opacity\n",
    "        b0.opacity = self.opacity\n",
    "        c0.opacity = self.opacity\n",
    "\n",
    "        a1.opacity = self.opacity\n",
    "        b1.opacity = self.opacity\n",
    "        c1.opacity = self.opacity\n",
    "        \n",
    "        \n",
    "        t1 = triangle(v0=a0,v1=b0,v2=c0)\n",
    "        l1 = curve(pos=[vertexes[0],vertexes[1],vertexes[2],vertexes[0]],color=self.outline, radius=self.lineradius)\n",
    "        t2 = triangle(v0=a1,v1=b1,v2=c1)\n",
    "        l2 = curve(pos=[vertexes[3],vertexes[4],vertexes[5],vertexes[3]],color=self.outline, radius=self.lineradius)\n",
    "        q1 = quad( vs=[a0,b0,b1,a1])\n",
    "        l3 = curve(pos=[vertexes[0],vertexes[3]], color=self.outline, radius=self.lineradius)\n",
    "        q2 = quad( vs=[a0,c0,c1,a1])\n",
    "        l4 = curve(pos=[vertexes[1],vertexes[4]],color=self.outline, radius=self.lineradius)\n",
    "        q3 = quad( vs=[c0,b0,b1,c1])\n",
    "        l5 = curve(pos=[vertexes[2],vertexes[5]],color=self.outline, radius=self.lineradius)\n",
    "\n",
    "        self.wireframe = [l1,l2,l3,l4,l5]\n",
    "        self.prism = compound([t1,t2,q1,q2,q3])\n",
    "    \n",
    "class Sensor():\n",
    "    def __init__(self, data):\n",
    "        self.centerx=0\n",
    "        self.centery=0\n",
    "        self.centerz=0\n",
    "        self.planeSpacing=6\n",
    "        self.gridx=28\n",
    "        self.gridy=48\n",
    "        self.xcolor = vector(1,1,1) \n",
    "        self.ycolor = vector(1,1,1) \n",
    "        self.xtransparency = 0.05\n",
    "        self.ytransparency = 0.05\n",
    "        self.xstart = 'down'\n",
    "        self.ystart = 'down'\n",
    "        self.data = data\n",
    "        self.job = {\n",
    "            1:[],\n",
    "            2:[],\n",
    "            3:[],\n",
    "            4:[]\n",
    "        }\n",
    "\n",
    "        #lists of triangle shaft objects according to layer and type\n",
    "        self.shafts = {\n",
    "            0:{\n",
    "                'x':[],\n",
    "                'y':[]\n",
    "            },\n",
    "            1:{\n",
    "                'x':[], \n",
    "                'y':[]\n",
    "            },\n",
    "            2:{\n",
    "                'x':[],\n",
    "                'y':[]\n",
    "            }\n",
    "        }\n",
    "    \n",
    "    def init(self):\n",
    "        for k in range(3):\n",
    "            xpattern = 1\n",
    "            if self.xstart == 'down': xpattern = 0\n",
    "            ypattern = 1\n",
    "            if self.ystart == 'down': ypattern = 0\n",
    "\n",
    "\n",
    "            #upward triangles in the x direction\n",
    "            for i in range(self.gridx//2):\n",
    "                new = triShaft()\n",
    "                new.length = self.gridy//2\n",
    "                new.xpos = self.centerx-self.gridx/4 + i + new.size/2 * (1-xpattern)\n",
    "                new.ypos = (1-k)*self.planeSpacing + self.centery\n",
    "                new.zpos = self.centerz+self.gridy/4\n",
    "                new.color = self.xcolor\n",
    "                new.opacity = self.xtransparency\n",
    "                self.job[1]+=[new]\n",
    "                self.shafts[k][new.type]+=[new]\n",
    "            \n",
    "            #downward triangles in the x direction\n",
    "            for i in range(self.gridx//2):\n",
    "                new = triShaft()\n",
    "                new.length = self.gridy//2\n",
    "                new.orientation = \"down\"\n",
    "                new.xpos = self.centerx-self.gridx/4 + i + new.size/2 * xpattern\n",
    "                new.ypos = (1-k)*self.planeSpacing + self.centery\n",
    "                new.zpos = self.centerz+self.gridy/4\n",
    "                new.color = self.xcolor\n",
    "                new.opacity = self.xtransparency\n",
    "                self.job[2]+=[new]\n",
    "                self.shafts[k][new.type]+=[new]\n",
    "            \n",
    "            #upward triangles in the y direction\n",
    "            for i in range(self.gridy//2):\n",
    "                new = triShaft()\n",
    "                new.type = 'y'\n",
    "                new.length = self.gridx//2 + new.size/2\n",
    "                new.xpos = self.centerz-self.gridx/4\n",
    "                new.ypos = (1-k)*self.planeSpacing + self.centery + new.size/2\n",
    "                new.zpos = self.centery-self.gridy/4 + i + new.size * ypattern + new.size\n",
    "                new.color = self.ycolor\n",
    "                new.opacity = self.ytransparency\n",
    "                self.job[3]+=[new]\n",
    "                self.shafts[k][new.type]+=[new]\n",
    "            \n",
    "            #downward triangles in the y direction\n",
    "            for i in range(self.gridy//2):\n",
    "                new = triShaft()\n",
    "                new.type = 'y'\n",
    "                new.orientation = 'down'\n",
    "                new.length = self.gridx//2 + new.size/2\n",
    "                new.xpos = self.centerz-self.gridx/4\n",
    "                new.ypos = (1-k)*self.planeSpacing + self.centery + new.size/2\n",
    "                new.zpos = self.centery-self.gridy/4 + i + new.size*1.5\n",
    "                new.color = self.ycolor\n",
    "                new.opacity = self.ytransparency\n",
    "                self.job[4]+=[new]\n",
    "                self.shafts[k][new.type]+=[new]\n",
    "        \n",
    "                  \n",
    "\n",
    "                \n",
    "\n",
    "c.lights = []\n",
    "test = Data()\n",
    "dtest = test.data\n",
    "s = Sensor(dtest)\n",
    "s.xtransparency=0\n",
    "s.ytransparency=0\n",
    "s.xstart = 'down'\n",
    "s.ystart = 'down'\n",
    "\n",
    "data = Data().data\n",
    "print(len(data))\n",
    "\n",
    "s.init()\n",
    "#multiprocess render\n",
    "def job1():\n",
    "    for object in s.job[1]: object.render()\n",
    "def job2():\n",
    "    for object in s.job[2]: object.render()\n",
    "def job3():\n",
    "    for object in s.job[3]: object.render()\n",
    "def job4():\n",
    "    for object in s.job[4]: object.render()\n",
    "    \n",
    "if __name__ == \"__main__\":\n",
    "    p1 = Process(target=job1)\n",
    "    p2 = Process(target=job2)\n",
    "    p3 = Process(target=job3)\n",
    "    p4 = Process(target=job4)\n",
    "\n",
    "    p1.start()\n",
    "    p2.start()\n",
    "    p3.start()\n",
    "    p4.start()\n",
    "\n",
    "    p1.join()\n",
    "    p2.join()\n",
    "    p3.join()\n",
    "    p4.join()\n",
    "        \n",
    "#60 and 100 cm long\n",
    "#x is long and y is short\n",
    "#triangles have width 4cm and 2cm high\n",
    "\n",
    "def load_event(event):\n",
    "    k = 0\n",
    "    for layer in event:\n",
    "        i = 0\n",
    "        for lg in layer:\n",
    "            print(s.shafts[k][\"x\"][i].prism.opacity)\n",
    "            s.shafts[k][\"x\"][i].prism.opacity = 1\n",
    "            s.shafts[k][\"x\"][i].prism.color = color.red\n",
    "        i += 1\n",
    "    k += 1\n",
    "\n",
    "event_num = 0\n",
    "while True:\n",
    "    k = keysdown()\n",
    "    if \"right\" in k:\n",
    "        #print(event_num)\n",
    "        if event_num < len(data)-1: event_num += 1\n",
    "        load_event(data[event_num])\n",
    "    if \"left\" in k:\n",
    "        #print(event_num)\n",
    "        if event_num > 0: event_num -= 1\n",
    "        load_event(data[event_num])\n",
    "\n",
    "    rate(100)\n",
    "    "
   ]
  },
  {
   "cell_type": "code",
   "execution_count": null,
   "id": "22db2fa0",
   "metadata": {},
   "outputs": [],
   "source": []
  },
  {
   "cell_type": "code",
   "execution_count": null,
   "id": "45a7376a",
   "metadata": {},
   "outputs": [],
   "source": []
  }
 ],
 "metadata": {
  "kernelspec": {
   "display_name": "Python 3 (ipykernel)",
   "language": "python",
   "name": "python3"
  },
  "language_info": {
   "codemirror_mode": {
    "name": "ipython",
    "version": 3
   },
   "file_extension": ".py",
   "mimetype": "text/x-python",
   "name": "python",
   "nbconvert_exporter": "python",
   "pygments_lexer": "ipython3",
   "version": "3.10.9"
  }
 },
 "nbformat": 4,
 "nbformat_minor": 5
}
